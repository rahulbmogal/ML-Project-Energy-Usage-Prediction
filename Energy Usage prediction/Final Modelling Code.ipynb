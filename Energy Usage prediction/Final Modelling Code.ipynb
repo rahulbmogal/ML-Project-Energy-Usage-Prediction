{
 "cells": [
  {
   "cell_type": "markdown",
   "id": "fdef9fc2",
   "metadata": {},
   "source": [
    "# Importing Libraries"
   ]
  },
  {
   "cell_type": "code",
   "execution_count": 1,
   "id": "cb542692",
   "metadata": {},
   "outputs": [],
   "source": [
    "import pandas as pd\n",
    "import numpy as np\n",
    "import gc\n",
    "import tensorflow as tf\n",
    "from tensorflow import keras"
   ]
  },
  {
   "cell_type": "markdown",
   "id": "d229b756",
   "metadata": {},
   "source": [
    "# Initial Preprocessing\n",
    "\n",
    "Before going into feature transformations and imputation, we repeat the preprocessing in the EDA code by merging the datasets, reducing memory usage, and decomposing the timestamp variable."
   ]
  },
  {
   "cell_type": "markdown",
   "id": "31f27c25",
   "metadata": {},
   "source": [
    "### Import Data"
   ]
  },
  {
   "cell_type": "code",
   "execution_count": 2,
   "id": "293baa0e",
   "metadata": {},
   "outputs": [],
   "source": [
    "folder_path = \"C:/Users/c21117159/OneDrive - Cardiff University/Documents/Dual Semester/CMT307 - Applied Machine Learning/Coursework 2/Data/\"\n",
    "\n",
    "train = pd.read_csv(folder_path + \"train.csv\")\n",
    "test = pd.read_csv(folder_path + \"test.csv\")\n",
    "\n",
    "weather_train = pd.read_csv(folder_path + \"weather_train.csv\")\n",
    "weather_test = pd.read_csv(folder_path + \"weather_test.csv\")\n",
    "\n",
    "building = pd.read_csv(folder_path + \"building_metadata.csv\")"
   ]
  },
  {
   "cell_type": "markdown",
   "id": "09a62246",
   "metadata": {},
   "source": [
    "### Memory Reduction"
   ]
  },
  {
   "cell_type": "code",
   "execution_count": 3,
   "id": "347ddab7",
   "metadata": {},
   "outputs": [],
   "source": [
    "# https://www.kaggle.com/kernels/scriptcontent/3684066/download\n",
    "\n",
    "from pandas.api.types import is_datetime64_any_dtype as is_datetime\n",
    "from pandas.api.types import is_categorical_dtype\n",
    "\n",
    "def reduce_mem_usage(df, use_float16=False):\n",
    "    \"\"\" iterate through all the columns of a dataframe and modify the data type\n",
    "        to reduce memory usage.        \n",
    "    \"\"\"\n",
    "    start_mem = df.memory_usage().sum() / 1024**2\n",
    "    print('Memory usage of dataframe is {:.2f} MB'.format(start_mem))\n",
    "    \n",
    "    #iterating over every column and finding the type of the column\n",
    "    for col in df.columns:\n",
    "      if is_datetime(df[col]) or is_categorical_dtype(df[col]):\n",
    "            continue\n",
    "      col_type = df[col].dtype\n",
    "        \n",
    "        #If the columns is not object\n",
    "      if col_type != object:\n",
    "          #Get the minimum and maximum value\n",
    "            c_min = df[col].min()\n",
    "            c_max = df[col].max()\n",
    "            #If the type is int\n",
    "            if str(col_type)[:3] == 'int':\n",
    "              #If the min max values lies with thin the range of int8 type then assign the type as int8\n",
    "                if c_min > np.iinfo(np.int8).min and c_max < np.iinfo(np.int8).max:\n",
    "                    df[col] = df[col].astype(np.int8)\n",
    "              #If the min max values lies with thin the range of int16 type then assign the type as int16 \n",
    "                elif c_min > np.iinfo(np.int16).min and c_max < np.iinfo(np.int16).max:\n",
    "                    df[col] = df[col].astype(np.int16)\n",
    "              #If the min max values lies with thin the range of int32 type then assign the type as int32\n",
    "                elif c_min > np.iinfo(np.int32).min and c_max < np.iinfo(np.int32).max:\n",
    "                    df[col] = df[col].astype(np.int32)\n",
    "              #If the min max values lies with thin the range of int64 type then assign the type as int64\n",
    "                elif c_min > np.iinfo(np.int64).min and c_max < np.iinfo(np.int64).max:\n",
    "                    df[col] = df[col].astype(np.int64)  \n",
    "            else:\n",
    "              #If the min max values lies with thin the range of float16 type then assign the type as float16\n",
    "                if c_min > np.finfo(np.float16).min and c_max < np.finfo(np.float16).max:\n",
    "                    df[col] = df[col].astype(np.float16)\n",
    "              #If the min max values lies with thin the range of float32 type then assign the type as float32\n",
    "                elif c_min > np.finfo(np.float32).min and c_max < np.finfo(np.float32).max:\n",
    "                    df[col] = df[col].astype(np.float32)\n",
    "                else:\n",
    "                    df[col] = df[col].astype(np.float64)\n",
    "      else:\n",
    "            df[col] = df[col].astype('category')\n",
    "\n",
    "    end_mem = df.memory_usage().sum() / 1024**2\n",
    "    print('Memory usage after optimization is: {:.2f} MB'.format(end_mem))\n",
    "    print('Decreased by {:.1f}%'.format(100 * (start_mem - end_mem) / start_mem))\n",
    "    \n",
    "    return df"
   ]
  },
  {
   "cell_type": "code",
   "execution_count": 4,
   "id": "b2a6116a",
   "metadata": {
    "scrolled": true
   },
   "outputs": [
    {
     "name": "stdout",
     "output_type": "stream",
     "text": [
      "Memory usage of dataframe is 616.95 MB\n",
      "Memory usage after optimization is: 173.84 MB\n",
      "Decreased by 71.8%\n",
      "Memory usage of dataframe is 9.60 MB\n",
      "Memory usage after optimization is: 2.59 MB\n",
      "Decreased by 73.1%\n",
      "Memory usage of dataframe is 1272.51 MB\n",
      "Memory usage after optimization is: 358.53 MB\n",
      "Decreased by 71.8%\n",
      "Memory usage of dataframe is 19.04 MB\n",
      "Memory usage after optimization is: 5.13 MB\n",
      "Decreased by 73.0%\n"
     ]
    }
   ],
   "source": [
    "train = reduce_mem_usage(train, use_float16=True)\n",
    "weather_train = reduce_mem_usage(weather_train, use_float16=True)\n",
    "\n",
    "test = reduce_mem_usage(test, use_float16=True)\n",
    "weather_test = reduce_mem_usage(weather_test, use_float16=True)"
   ]
  },
  {
   "cell_type": "markdown",
   "id": "79ee6b88",
   "metadata": {},
   "source": [
    "### Merging Datasets"
   ]
  },
  {
   "cell_type": "code",
   "execution_count": 5,
   "id": "91f32876",
   "metadata": {},
   "outputs": [],
   "source": [
    "df_train = train.merge(building, how='left', on='building_id')\n",
    "df_train = df_train.merge(weather_train, how='left', on=['site_id','timestamp'])"
   ]
  },
  {
   "cell_type": "code",
   "execution_count": 6,
   "id": "ad6e9342",
   "metadata": {},
   "outputs": [],
   "source": [
    "# Delete original datasets to improve memory usage:\n",
    "del train,weather_train"
   ]
  },
  {
   "cell_type": "markdown",
   "id": "9e604f25",
   "metadata": {},
   "source": [
    "### Timestamp Decomposition"
   ]
  },
  {
   "cell_type": "code",
   "execution_count": 7,
   "id": "82a57038",
   "metadata": {},
   "outputs": [],
   "source": [
    "def break_datetime(df):\n",
    "  df['timestamp']= pd.to_datetime(df['timestamp'])\n",
    "  df['hour']= np.uint8(df['timestamp'].dt.hour)\n",
    "  df['day']= np.uint16(df['timestamp'].dt.day)\n",
    "  df['dayofweek']= np.uint8(df['timestamp'].dt.dayofweek)\n",
    "  df['month']= np.uint8(df['timestamp'].dt.month)\n",
    "  df['dayofyear']= np.uint16(df['timestamp'].dt.dayofyear)\n",
    " \n",
    "  df['year']= np.uint16(df['timestamp'].dt.year)\n",
    "  return df"
   ]
  },
  {
   "cell_type": "code",
   "execution_count": 8,
   "id": "787e6c73",
   "metadata": {},
   "outputs": [],
   "source": [
    "df_train = break_datetime(df_train)"
   ]
  },
  {
   "cell_type": "code",
   "execution_count": 9,
   "id": "2c200a4f",
   "metadata": {},
   "outputs": [
    {
     "name": "stdout",
     "output_type": "stream",
     "text": [
      "Memory usage of dataframe is 1542.69 MB\n",
      "Memory usage after optimization is: 1022.14 MB\n",
      "Decreased by 33.7%\n"
     ]
    }
   ],
   "source": [
    "df_train = reduce_mem_usage(df_train)"
   ]
  },
  {
   "cell_type": "markdown",
   "id": "ebb48ce9",
   "metadata": {},
   "source": [
    "# Preparing Data for Modelling"
   ]
  },
  {
   "cell_type": "code",
   "execution_count": 10,
   "id": "91d54590",
   "metadata": {},
   "outputs": [],
   "source": [
    "df = df_train.copy()"
   ]
  },
  {
   "cell_type": "markdown",
   "id": "5390c5cc",
   "metadata": {},
   "source": [
    "Firstly, we remove the outlying building found in the EDA (building_id = 1099)"
   ]
  },
  {
   "cell_type": "code",
   "execution_count": 11,
   "id": "bd594eba",
   "metadata": {},
   "outputs": [],
   "source": [
    "df = df.query(\"building_id != 1099\")"
   ]
  },
  {
   "cell_type": "markdown",
   "id": "1643ebbf",
   "metadata": {},
   "source": [
    "Then, we extract the target variable into a separate variable."
   ]
  },
  {
   "cell_type": "code",
   "execution_count": 12,
   "id": "faf211b0",
   "metadata": {},
   "outputs": [],
   "source": [
    "y = pd.DataFrame(df.pop(\"meter_reading\"))"
   ]
  },
  {
   "cell_type": "markdown",
   "id": "66fc5b22",
   "metadata": {},
   "source": [
    "Now, we create a pipeline for imputing missing values, encoding categorical variables, and scaling numeric variables, including the target variable."
   ]
  },
  {
   "cell_type": "code",
   "execution_count": 13,
   "id": "e30f9315",
   "metadata": {},
   "outputs": [
    {
     "data": {
      "text/plain": [
       "46"
      ]
     },
     "execution_count": 13,
     "metadata": {},
     "output_type": "execute_result"
    }
   ],
   "source": [
    "from sklearn.pipeline import Pipeline\n",
    "from sklearn.preprocessing import OneHotEncoder, MinMaxScaler\n",
    "from sklearn.impute import SimpleImputer\n",
    "from sklearn.compose import ColumnTransformer\n",
    "\n",
    "cat_features = [\"meter\",\"site_id\",\"primary_use\",\"hour\",\"dayofweek\",\"month\"]\n",
    "cat_transformer = Pipeline(\n",
    "    [\n",
    "        (\"cat_imputer\", SimpleImputer(strategy=\"most_frequent\")),\n",
    "        (\"cat_encoder\", OneHotEncoder())\n",
    "    ]\n",
    ")\n",
    "\n",
    "\n",
    "num_features = [\"square_feet\",\"air_temperature\",\"cloud_coverage\",\"dew_temperature\",\"precip_depth_1_hr\",\n",
    "               \"sea_level_pressure\",\"wind_direction\",\"wind_speed\"]\n",
    "num_transformer = Pipeline(\n",
    "    [\n",
    "        (\"num_imputer\", SimpleImputer(strategy=\"median\")),\n",
    "        (\"num_scaler\", MinMaxScaler())\n",
    "    ]\n",
    ")\n",
    "\n",
    "\n",
    "preprocessor = ColumnTransformer(\n",
    "    [\n",
    "        (\"categoricals\", cat_transformer, cat_features),\n",
    "        (\"numericals\", num_transformer, num_features)\n",
    "    ]\n",
    ")\n",
    "\n",
    "X = preprocessor.fit_transform(df)\n",
    "\n",
    "y_scaler = MinMaxScaler()\n",
    "y = np.ravel(y_scaler.fit_transform(y))\n",
    "\n",
    "gc.collect()"
   ]
  },
  {
   "cell_type": "code",
   "execution_count": 14,
   "id": "48901ea4",
   "metadata": {},
   "outputs": [
    {
     "name": "stdout",
     "output_type": "stream",
     "text": [
      "\n",
      "Shapes:\n",
      "\n",
      "X: (20198534, 87)\n",
      "y: (20198534,)\n",
      "\n"
     ]
    }
   ],
   "source": [
    "print(\"\"\"\n",
    "Shapes:\n",
    "\n",
    "X: {}\n",
    "y: {}\n",
    "\"\"\".format(X.shape, y.shape))"
   ]
  },
  {
   "cell_type": "markdown",
   "id": "ad0f4edd",
   "metadata": {},
   "source": [
    "# Modelling\n",
    "\n",
    "We attempted 4 modelling techniques:\n",
    "\n",
    "- Linear regression.\n",
    "- Support vector machine (SVM).\n",
    "- Random forest.\n",
    "- LSTM recurrent neural network."
   ]
  },
  {
   "cell_type": "markdown",
   "id": "3a1568d6",
   "metadata": {},
   "source": [
    "### Splitting Data\n",
    "\n",
    "We split the data into training and validation data by selecting a proportion of the building IDs and extracting these from X and y."
   ]
  },
  {
   "cell_type": "code",
   "execution_count": 15,
   "id": "dc3ed4f4",
   "metadata": {},
   "outputs": [],
   "source": [
    "train_prop = 0.7\n",
    "\n",
    "train_buildings = df.building_id.unique()[:int(train_prop * len(df.building_id.unique()))]\n",
    "\n",
    "train_val_split_index = df.loc[df.building_id.isin(train_buildings)].shape[0]\n",
    "\n",
    "X_train = X[:train_val_split_index]\n",
    "X_val = X[train_val_split_index:]\n",
    "\n",
    "y_train = y[:train_val_split_index]\n",
    "y_val = y[train_val_split_index:]"
   ]
  },
  {
   "cell_type": "code",
   "execution_count": 16,
   "id": "c0039343",
   "metadata": {},
   "outputs": [],
   "source": [
    "del X, y"
   ]
  },
  {
   "cell_type": "code",
   "execution_count": 17,
   "id": "0d806225",
   "metadata": {},
   "outputs": [
    {
     "name": "stdout",
     "output_type": "stream",
     "text": [
      "\n",
      "Shapes:\n",
      "\n",
      "X_train: (12752470, 87)\n",
      "y_train: (12752470,)\n",
      "\n",
      "X_val: (7446064, 87)\n",
      "y_val: (7446064,)\n",
      "\n"
     ]
    }
   ],
   "source": [
    "print(\"\"\"\n",
    "Shapes:\n",
    "\n",
    "X_train: {}\n",
    "y_train: {}\n",
    "\n",
    "X_val: {}\n",
    "y_val: {}\n",
    "\"\"\".format(X_train.shape, y_train.shape, X_val.shape, y_val.shape))"
   ]
  },
  {
   "cell_type": "markdown",
   "id": "bd24dcb5",
   "metadata": {},
   "source": [
    "### Linear Regression"
   ]
  },
  {
   "cell_type": "code",
   "execution_count": 18,
   "id": "f1032d37",
   "metadata": {},
   "outputs": [
    {
     "name": "stdout",
     "output_type": "stream",
     "text": [
      "\n",
      "Linear Regression:\n",
      "RMSE: 0.0071\n",
      "MAE: 0.0008\n",
      "R-squared: 0.0146\n",
      "\n",
      "Time taken to train:  0:00:27.699847\n"
     ]
    }
   ],
   "source": [
    "from sklearn.linear_model import LinearRegression\n",
    "from sklearn.metrics import mean_squared_error, mean_absolute_error, r2_score\n",
    "from datetime import datetime\n",
    "\n",
    "start_time = datetime.now()\n",
    "\n",
    "lr = LinearRegression().fit(X_train, np.array(y_train))\n",
    "\n",
    "lr_preds = lr.predict(X_val)\n",
    "\n",
    "lr_rmse = mean_squared_error(y_val, lr_preds, squared=False)\n",
    "lr_mae = mean_absolute_error(y_val, lr_preds)\n",
    "lr_r2 = r2_score(y_val, lr_preds)\n",
    "\n",
    "print(\"\"\"\n",
    "Linear Regression:\n",
    "RMSE: {}\n",
    "MAE: {}\n",
    "R-squared: {}\n",
    "\"\"\".format(lr_rmse.round(4), lr_mae.round(4), lr_r2.round(4)))\n",
    "print(\"Time taken to train: \", datetime.now() - start_time)"
   ]
  },
  {
   "cell_type": "markdown",
   "id": "455da56f",
   "metadata": {},
   "source": [
    "We can get an idea of the predictions the model makes by selecting a building in the validation data and comparing the predictions and true values."
   ]
  },
  {
   "cell_type": "code",
   "execution_count": 19,
   "id": "908f7d2a",
   "metadata": {},
   "outputs": [],
   "source": [
    "val_building_id = df.building_id.unique()[df.building_id.unique().shape[0] - 1]\n",
    "\n",
    "y_val_building = y_scaler.inverse_transform(y_val[-df.loc[df.building_id == val_building_id].shape[0]:].reshape(-1,1))\n",
    "\n",
    "lr_pred_building = y_scaler.inverse_transform(lr_preds[-df.loc[df.building_id == val_building_id].shape[0]:].reshape(-1,1))"
   ]
  },
  {
   "cell_type": "code",
   "execution_count": 20,
   "id": "d1788d4c",
   "metadata": {},
   "outputs": [
    {
     "data": {
      "image/png": "[encoded data removed]",
      "text/plain": [
       "<Figure size 640x480 with 1 Axes>"
      ]
     },
     "metadata": {},
     "output_type": "display_data"
    }
   ],
   "source": [
    "import matplotlib.pyplot as plt\n",
    "\n",
    "plt.plot(y_val_building, label=\"True\")\n",
    "plt.plot(lr_pred_building, label=\"Pred\")\n",
    "\n",
    "plt.title(\"Linear Regression\")\n",
    "plt.ylabel(\"meter_reading\")\n",
    "plt.xlabel(\"Time\")\n",
    "plt.legend()\n",
    "\n",
    "plt.show()"
   ]
  },
  {
   "cell_type": "code",
   "execution_count": 21,
   "id": "05b7ed19",
   "metadata": {},
   "outputs": [
    {
     "data": {
      "text/plain": [
       "3442"
      ]
     },
     "execution_count": 21,
     "metadata": {},
     "output_type": "execute_result"
    }
   ],
   "source": [
    "gc.collect()"
   ]
  },
  {
   "cell_type": "markdown",
   "id": "191fb19b",
   "metadata": {},
   "source": [
    "### Support Vector Machine (SVM)"
   ]
  },
  {
   "cell_type": "code",
   "execution_count": 22,
   "id": "befb5227",
   "metadata": {},
   "outputs": [
    {
     "name": "stdout",
     "output_type": "stream",
     "text": [
      "\n",
      "Support Vector Machine:\n",
      "RMSE: 0.098\n",
      "MAE: 0.098\n",
      "R-squared: -187.247\n",
      "\n",
      "Time to train:  0:00:17.894620\n"
     ]
    }
   ],
   "source": [
    "from sklearn.svm import SVR\n",
    "\n",
    "start_time = datetime.now()\n",
    "\n",
    "svm = SVR().fit(X_train, y_train)\n",
    "\n",
    "svm_preds = svm.predict(X_val)\n",
    "\n",
    "svm_rmse = mean_squared_error(y_val, svm_preds, squared=False)\n",
    "svm_mae = mean_absolute_error(y_val, svm_preds)\n",
    "svm_r2 = r2_score(y_val, svm_preds)\n",
    "\n",
    "print(\"\"\"\n",
    "Support Vector Machine:\n",
    "RMSE: {}\n",
    "MAE: {}\n",
    "R-squared: {}\n",
    "\"\"\".format(svm_rmse.round(3), svm_mae.round(3), svm_r2.round(3)))\n",
    "print(\"Time to train: \", datetime.now() - start_time)"
   ]
  },
  {
   "cell_type": "code",
   "execution_count": 23,
   "id": "7f85149f",
   "metadata": {},
   "outputs": [
    {
     "data": {
      "image/png": "[encoded data removed]",
      "text/plain": [
       "<Figure size 640x480 with 1 Axes>"
      ]
     },
     "metadata": {},
     "output_type": "display_data"
    }
   ],
   "source": [
    "svm_pred_building = y_scaler.inverse_transform(svm_preds[-df.loc[df.building_id == val_building_id].shape[0]:].reshape(-1,1))\n",
    "\n",
    "plt.plot(y_val_building, label=\"True\")\n",
    "plt.plot(svm_pred_building, label=\"Pred\")\n",
    "\n",
    "plt.title(\"Support Vector Regression\")\n",
    "plt.ylabel(\"meter_reading\")\n",
    "plt.xlabel(\"Time\")\n",
    "plt.legend()\n",
    "\n",
    "plt.show()"
   ]
  },
  {
   "cell_type": "code",
   "execution_count": 24,
   "id": "62808548",
   "metadata": {},
   "outputs": [
    {
     "name": "stdout",
     "output_type": "stream",
     "text": [
      "Max predicted value:  0.09803276509046555\n",
      "Min predicted value:  0.09803276509046555\n"
     ]
    }
   ],
   "source": [
    "print(\"Max predicted value: \", svm_preds.max())\n",
    "print(\"Min predicted value: \", svm_preds.min())"
   ]
  },
  {
   "cell_type": "markdown",
   "id": "b7accaf9",
   "metadata": {},
   "source": [
    "SVR performs very poorly so we do not explore this option further."
   ]
  },
  {
   "cell_type": "markdown",
   "id": "fd424649",
   "metadata": {},
   "source": [
    "### Random Forest\n",
    "\n",
    "Before fitting this on the whole dataset, we estimate how long it would take by taking a subsample of the data to fit on and multiplying the time taken accordingly."
   ]
  },
  {
   "cell_type": "code",
   "execution_count": 25,
   "id": "988ceed3",
   "metadata": {},
   "outputs": [
    {
     "name": "stdout",
     "output_type": "stream",
     "text": [
      "Esimtated time to train:  3:03:29.735000\n"
     ]
    }
   ],
   "source": [
    "from sklearn.ensemble import RandomForestRegressor\n",
    "\n",
    "subset_size = 1 / 1000\n",
    "subset = int(X_train.shape[0] * subset_size)\n",
    "\n",
    "start_time = datetime.now()\n",
    "\n",
    "rf = RandomForestRegressor(random_state=1, n_jobs=-1).fit(X_train[:subset], y_train[:subset])\n",
    "\n",
    "rf_preds = rf.predict(X_val[:subset])\n",
    "\n",
    "print(\"Esimtated time to train: \", (datetime.now() - start_time) / subset_size)"
   ]
  },
  {
   "cell_type": "markdown",
   "id": "9ba2e65d",
   "metadata": {},
   "source": [
    "The random forest model would take too long to fit on the whole dataset, especially when considering hyperparameter optimisation. Therefore, we take a subsample of the data to train the model on. We have to make sure this is a stratified sample, especially with respect to the building primary use as it would be easy to miss a category if randomly sampling."
   ]
  },
  {
   "cell_type": "code",
   "execution_count": 26,
   "id": "c80a2d60",
   "metadata": {},
   "outputs": [],
   "source": [
    "from sklearn.utils import resample\n",
    "\n",
    "sample_size = 20000\n",
    "\n",
    "df_sample = resample(df_train.query(\"building_id != 1099\"), replace=False, n_samples=sample_size, random_state=1, stratify=df_train.query(\"building_id != 1099\").primary_use).reset_index()\n",
    "\n",
    "y_sample = pd.DataFrame(df_sample.pop(\"meter_reading\"))\n",
    "y_sample = np.ravel(y_scaler.fit_transform(y_sample))\n",
    "\n",
    "X_sample = preprocessor.fit_transform(df_sample)"
   ]
  },
  {
   "cell_type": "code",
   "execution_count": 27,
   "id": "bbaf49d1",
   "metadata": {},
   "outputs": [
    {
     "name": "stdout",
     "output_type": "stream",
     "text": [
      "\n",
      "Shapes:\n",
      "\n",
      "X_train_sample: (16000, 87)\n",
      "\n",
      "y_train_sample: (16000,)\n",
      "\n",
      "X_val_sample: (4000, 87)\n",
      "\n",
      "y_val_sample: (4000,)\n",
      "\n"
     ]
    }
   ],
   "source": [
    "from sklearn.model_selection import train_test_split\n",
    "\n",
    "test_size = 0.2\n",
    "\n",
    "X_train_sample, X_val_sample, y_train_sample, y_val_sample = train_test_split(X_sample, y_sample, test_size=test_size, random_state=1)\n",
    "\n",
    "print(\"\"\"\n",
    "Shapes:\n",
    "\n",
    "X_train_sample: {}\n",
    "\n",
    "y_train_sample: {}\n",
    "\n",
    "X_val_sample: {}\n",
    "\n",
    "y_val_sample: {}\n",
    "\"\"\".format(X_train_sample.shape, y_train_sample.shape, X_val_sample.shape, y_val_sample.shape))"
   ]
  },
  {
   "cell_type": "code",
   "execution_count": 28,
   "id": "942c4ad7",
   "metadata": {},
   "outputs": [
    {
     "name": "stdout",
     "output_type": "stream",
     "text": [
      "\n",
      "Random Forest Regressor:\n",
      "RMSE: 0.014\n",
      "MAE: 0.002\n",
      "R-squared: 0.393\n",
      "\n",
      "Time to train:  0:00:28.860061\n"
     ]
    }
   ],
   "source": [
    "start_time = datetime.now()\n",
    "\n",
    "rf = RandomForestRegressor(random_state=1, n_jobs=-1).fit(X_train_sample, y_train_sample)\n",
    "\n",
    "rf_preds = rf.predict(X_val_sample)\n",
    "\n",
    "rf_rmse = mean_squared_error(y_val_sample, rf_preds, squared=False)\n",
    "rf_mae = mean_absolute_error(y_val_sample, rf_preds)\n",
    "rf_r2 = r2_score(y_val_sample, rf_preds)\n",
    "\n",
    "print(\"\"\"\n",
    "Random Forest Regressor:\n",
    "RMSE: {}\n",
    "MAE: {}\n",
    "R-squared: {}\n",
    "\"\"\".format(rf_rmse.round(3), rf_mae.round(3), rf_r2.round(3)))\n",
    "print(\"Time to train: \", datetime.now() - start_time)"
   ]
  },
  {
   "cell_type": "code",
   "execution_count": 29,
   "id": "6bdf1145",
   "metadata": {},
   "outputs": [
    {
     "data": {
      "image/png": "[encoded data removed]",
      "text/plain": [
       "<Figure size 640x480 with 1 Axes>"
      ]
     },
     "metadata": {},
     "output_type": "display_data"
    }
   ],
   "source": [
    "rf_pred_building = y_scaler.inverse_transform(rf_preds[-df.loc[df.building_id == val_building_id].shape[0]:].reshape(-1,1))\n",
    "\n",
    "plt.plot(y_val_building, label=\"True\")\n",
    "plt.plot(rf_pred_building, label=\"Pred\")\n",
    "\n",
    "plt.title(\"Random Forest Regression (Training Sample Size: \" + str(int(sample_size * (1 - test_size))) + \")\")\n",
    "plt.ylabel(\"meter_reading\")\n",
    "plt.xlabel(\"Time\")\n",
    "plt.legend()\n",
    "\n",
    "plt.show()"
   ]
  },
  {
   "cell_type": "code",
   "execution_count": 30,
   "id": "6237b87f",
   "metadata": {},
   "outputs": [
    {
     "data": {
      "text/plain": [
       "6685"
      ]
     },
     "execution_count": 30,
     "metadata": {},
     "output_type": "execute_result"
    }
   ],
   "source": [
    "gc.collect()"
   ]
  },
  {
   "cell_type": "markdown",
   "id": "b565dc7e",
   "metadata": {},
   "source": [
    "We then optimise some hyperparameters of the random forest model. We do so using grid search cv, comparing results using the root mean squared error."
   ]
  },
  {
   "cell_type": "code",
   "execution_count": 31,
   "id": "b5af4106",
   "metadata": {},
   "outputs": [
    {
     "name": "stdout",
     "output_type": "stream",
     "text": [
      "Fitting 5 folds for each of 144 candidates, totalling 720 fits\n",
      "\n",
      "Best Parameters:\n",
      " {'max_depth': 50, 'min_samples_leaf': 1, 'min_samples_split': 2, 'n_estimators': 500}\n",
      "\n",
      "Random Forest Regressor:\n",
      "RMSE: 0.014\n",
      "MAE: 0.002\n",
      "R-squared: 0.405\n",
      "\n",
      "Time to optimise:  5:10:38.892997\n"
     ]
    }
   ],
   "source": [
    "from sklearn.model_selection import GridSearchCV\n",
    "\n",
    "start_time = datetime.now()\n",
    "\n",
    "param_grid = {\n",
    "    'max_depth': [50, 100, 1000, None],\n",
    "    'min_samples_leaf': [1, 10, 100],\n",
    "    'min_samples_split': [2, 10, 100],\n",
    "    'n_estimators': [10, 100, 500, 1000]\n",
    "}\n",
    "\n",
    "rf = RandomForestRegressor(random_state=1, n_jobs=-1)\n",
    "\n",
    "grid_search = GridSearchCV(estimator=rf, param_grid=param_grid, cv=5, verbose=2, scoring='r2',  n_jobs=-1)\n",
    "\n",
    "grid_search.fit(X_train_sample, y_train_sample)\n",
    "\n",
    "print(\"\\nBest Parameters:\\n\", grid_search.best_params_)\n",
    "\n",
    "params = grid_search.best_params_\n",
    "\n",
    "rf = RandomForestRegressor(max_depth=params[\"max_depth\"],\n",
    "                          min_samples_leaf=params[\"min_samples_leaf\"],\n",
    "                          min_samples_split=params[\"min_samples_split\"],\n",
    "                          n_estimators=params[\"n_estimators\"],\n",
    "                          random_state=1, n_jobs=-1)\n",
    "\n",
    "rf.fit(X_train_sample, y_train_sample)\n",
    "\n",
    "rf_preds = rf.predict(X_val_sample)\n",
    "\n",
    "rf_rmse = mean_squared_error(y_val_sample, rf_preds, squared=False)\n",
    "rf_mae = mean_absolute_error(y_val_sample, rf_preds)\n",
    "rf_r2 = r2_score(y_val_sample, rf_preds)\n",
    "\n",
    "print(\"\"\"\n",
    "Random Forest Regressor:\n",
    "RMSE: {}\n",
    "MAE: {}\n",
    "R-squared: {}\n",
    "\"\"\".format(rf_rmse.round(3), rf_mae.round(3), rf_r2.round(3)))\n",
    "print(\"Time to optimise: \", datetime.now() - start_time)"
   ]
  },
  {
   "cell_type": "code",
   "execution_count": 32,
   "id": "501cb475",
   "metadata": {},
   "outputs": [
    {
     "data": {
      "text/plain": [
       "643"
      ]
     },
     "execution_count": 32,
     "metadata": {},
     "output_type": "execute_result"
    }
   ],
   "source": [
    "gc.collect()"
   ]
  },
  {
   "cell_type": "markdown",
   "id": "3cc9bd07",
   "metadata": {},
   "source": [
    "### LSTM Recurrent Neural Network\n",
    "\n",
    "Unlike the previous models we have used, a RNN will use previous values of meter_reading for a given building to predict current and future values of meter_reading. Therefore, we train the model on a single building. We have chosen the building with id = 46."
   ]
  },
  {
   "cell_type": "code",
   "execution_count": 15,
   "id": "d8942dbf",
   "metadata": {},
   "outputs": [],
   "source": [
    "df_lstm = df_train.query(\"building_id == 46\")"
   ]
  },
  {
   "cell_type": "markdown",
   "id": "7ef18817",
   "metadata": {},
   "source": [
    "We then split the data into training and test data."
   ]
  },
  {
   "cell_type": "code",
   "execution_count": 34,
   "id": "3c8ed465",
   "metadata": {},
   "outputs": [
    {
     "name": "stdout",
     "output_type": "stream",
     "text": [
      "training data size:  (7027, 22) \n",
      "    val data size:  (1757, 22)\n"
     ]
    }
   ],
   "source": [
    "ratio = round(0.8*df_lstm.shape[0])\n",
    "\n",
    "train_lstm = df_lstm.iloc[:ratio, :]\n",
    "test_lstm = df_lstm.iloc[ratio:, :]\n",
    "\n",
    "print('training data size: ', train_lstm.shape, '\\n    val data size: ', test_lstm.shape)"
   ]
  },
  {
   "cell_type": "markdown",
   "id": "a3cf7fe2",
   "metadata": {},
   "source": [
    "Then, we extract meter_reading from each dataset."
   ]
  },
  {
   "cell_type": "code",
   "execution_count": 35,
   "id": "fded760e",
   "metadata": {},
   "outputs": [],
   "source": [
    "y_train_lstm = train_lstm.pop('meter_reading')\n",
    "y_test_lstm = test_lstm.pop('meter_reading')"
   ]
  },
  {
   "cell_type": "markdown",
   "id": "cdd44190",
   "metadata": {},
   "source": [
    "We then use the same column transformer we used before on this data. However, this time we use fewer features as many are not necessary for this model."
   ]
  },
  {
   "cell_type": "code",
   "execution_count": 36,
   "id": "9437fb23",
   "metadata": {},
   "outputs": [],
   "source": [
    "cat_features = [\"primary_use\", \"meter\"]\n",
    "\n",
    "num_features = ['square_feet', 'air_temperature', 'cloud_coverage','dew_temperature','precip_depth_1_hr','sea_level_pressure','wind_direction','wind_speed']\n",
    "\n",
    "preprocessor = ColumnTransformer(\n",
    "    [\n",
    "        (\"categoricals\", cat_transformer, cat_features),\n",
    "        (\"numericals\", num_transformer, num_features)\n",
    "    ]\n",
    ")"
   ]
  },
  {
   "cell_type": "markdown",
   "id": "534d9f21",
   "metadata": {},
   "source": [
    "We then format the data to be used in an RNN model."
   ]
  },
  {
   "cell_type": "code",
   "execution_count": 37,
   "id": "34f31c2b",
   "metadata": {},
   "outputs": [],
   "source": [
    "y_train_lstm = y_train_lstm.values\n",
    "y_test_lstm = y_test_lstm.values\n",
    "\n",
    "y_train_lstm = y_train_lstm.reshape(-1,1)\n",
    "y_test_lstm = y_test_lstm.reshape(-1,1)\n",
    "\n",
    "y_train_lstm_scaled = y_scaler.fit_transform(y_train_lstm)\n",
    "y_test_lstm_scaled = y_scaler.transform(y_test_lstm)"
   ]
  },
  {
   "cell_type": "code",
   "execution_count": 38,
   "id": "c7843a01",
   "metadata": {},
   "outputs": [
    {
     "name": "stdout",
     "output_type": "stream",
     "text": [
      "[[1.   1.   0.   0.68 0.67 0.84 0.   0.72 0.   0.  ]\n",
      " [1.   1.   0.   0.66 0.44 0.87 0.   0.74 0.19 0.1 ]\n",
      " [1.   1.   0.   0.61 0.22 0.87 0.   0.74 0.   0.  ]\n",
      " [1.   1.   0.   0.56 0.22 0.86 0.   0.74 0.   0.  ]\n",
      " [1.   1.   0.   0.53 0.22 0.84 0.   0.74 0.69 0.17]]\n",
      "(7027, 10)\n"
     ]
    }
   ],
   "source": [
    "train_lstm_processed = preprocessor.fit_transform(train_lstm)\n",
    "test_lstm_processed = preprocessor.transform(test_lstm)\n",
    "\n",
    "np.set_printoptions(threshold=np.inf, linewidth=np.inf, suppress=True, precision=2)\n",
    "\n",
    "print(train_lstm_processed[0:5, :])\n",
    "print(train_lstm_processed.shape)"
   ]
  },
  {
   "cell_type": "code",
   "execution_count": 39,
   "id": "dd698e08",
   "metadata": {},
   "outputs": [],
   "source": [
    "train_lstm_processed=np.concatenate((train_lstm_processed, y_train_lstm_scaled), axis=1)\n",
    "test_lstm_processed=np.concatenate((test_lstm_processed, y_test_lstm_scaled), axis=1)"
   ]
  },
  {
   "cell_type": "markdown",
   "id": "0bd88ebc",
   "metadata": {},
   "source": [
    "To use the data in a RNN, we need to apply the following function."
   ]
  },
  {
   "cell_type": "code",
   "execution_count": 40,
   "id": "a9620454",
   "metadata": {},
   "outputs": [],
   "source": [
    "from pandas import concat\n",
    "\n",
    "# convert series to supervised learning by Jason Brownlee \n",
    "def series_to_supervised(data, n_in=1, n_out=1, dropnan=True):\n",
    "\n",
    "\tn_vars = 1 if type(data) is list else data.shape[1]\n",
    "\tdf = pd.DataFrame(data)\n",
    "\tcols, names = list(), list()\n",
    "\t# input sequence (t-n, ... t-1)\n",
    "\tfor i in range(n_in, 0, -1):\n",
    "\t\tcols.append(df.shift(i))\n",
    "\t\tnames += [('var%d(t-%d)' % (j+1, i)) for j in range(n_vars)]\n",
    "\t# forecast sequence (t, t+1, ... t+n)\n",
    "\tfor i in range(0, n_out):\n",
    "\t\tcols.append(df.shift(-i))\n",
    "\t\tif i == 0:\n",
    "\t\t\tnames += [('var%d(t)' % (j+1)) for j in range(n_vars)]\n",
    "\t\telse:\n",
    "\t\t\tnames += [('var%d(t+%d)' % (j+1, i)) for j in range(n_vars)]\n",
    "\t# put it all together\n",
    "\tagg = concat(cols, axis=1)\n",
    "\tagg.columns = names\n",
    "\t# drop rows with NaN values\n",
    "\tif dropnan:\n",
    "\t\tagg.dropna(inplace=True)\n",
    "\treturn agg"
   ]
  },
  {
   "cell_type": "code",
   "execution_count": 41,
   "id": "a9098d96",
   "metadata": {},
   "outputs": [
    {
     "name": "stdout",
     "output_type": "stream",
     "text": [
      "2 11\n",
      "   var1(t-2)  var2(t-2)  var3(t-2)  var4(t-2)  var5(t-2)  var6(t-2)  \\\n",
      "2        1.0        1.0        0.0   0.677447   0.666667   0.840143   \n",
      "3        1.0        1.0        0.0   0.660183   0.444444   0.871400   \n",
      "4        1.0        1.0        0.0   0.613390   0.222222   0.871400   \n",
      "5        1.0        1.0        0.0   0.563872   0.222222   0.857111   \n",
      "6        1.0        1.0        0.0   0.532071   0.222222   0.840143   \n",
      "\n",
      "   var7(t-2)  var8(t-2)  var9(t-2)  var10(t-2)  ...  var3(t-1)  var4(t-1)  \\\n",
      "2   0.002907   0.723684   0.000000    0.000000  ...        0.0   0.660183   \n",
      "3   0.000000   0.736842   0.194444    0.097412  ...        0.0   0.613390   \n",
      "4   0.002907   0.736842   0.000000    0.000000  ...        0.0   0.563872   \n",
      "5   0.002907   0.736842   0.000000    0.000000  ...        0.0   0.532071   \n",
      "6   0.000000   0.736842   0.694444    0.168823  ...        0.0   0.514807   \n",
      "\n",
      "   var5(t-1)  var6(t-1)  var7(t-1)  var8(t-1)  var9(t-1)  var10(t-1)  \\\n",
      "2   0.444444   0.871400   0.000000   0.736842   0.194444    0.097412   \n",
      "3   0.222222   0.871400   0.002907   0.736842   0.000000    0.000000   \n",
      "4   0.222222   0.857111   0.002907   0.736842   0.000000    0.000000   \n",
      "5   0.222222   0.840143   0.000000   0.736842   0.694444    0.168823   \n",
      "6   0.444444   0.823175   0.002907   0.671053   0.000000    0.000000   \n",
      "\n",
      "   var11(t-1)  var11(t)  \n",
      "2    0.189573  0.193914  \n",
      "3    0.193914  0.189573  \n",
      "4    0.189573  0.189573  \n",
      "5    0.189573  0.192467  \n",
      "6    0.192467  0.188126  \n",
      "\n",
      "[5 rows x 23 columns]\n"
     ]
    }
   ],
   "source": [
    "lags = 2 #set time step\n",
    "features = train_lstm_processed.shape[1]\n",
    "print(lags, features)\n",
    "\n",
    "# frame as supervised learning\n",
    "train_lstm_reframed = series_to_supervised(train_lstm_processed, lags, 1)\n",
    "# drop columns we don't want to predict\n",
    "train_lstm_reframed.drop(train_lstm_reframed.iloc[:,-11:-1], axis=1, inplace=True)\n",
    "\n",
    "test_lstm_reframed = series_to_supervised(test_lstm_processed, lags, 1)\n",
    "test_lstm_reframed.drop(test_lstm_reframed.iloc[:,-11:-1], axis=1, inplace=True) \n",
    "\n",
    "print(train_lstm_reframed.head())"
   ]
  },
  {
   "cell_type": "code",
   "execution_count": 42,
   "id": "5edb07d7",
   "metadata": {},
   "outputs": [
    {
     "name": "stdout",
     "output_type": "stream",
     "text": [
      "(7025, 23)\n",
      "(1755, 23)\n"
     ]
    }
   ],
   "source": [
    "print(train_lstm_reframed.shape)\n",
    "print(test_lstm_reframed.shape)"
   ]
  },
  {
   "cell_type": "code",
   "execution_count": 43,
   "id": "a005fad9",
   "metadata": {},
   "outputs": [
    {
     "name": "stdout",
     "output_type": "stream",
     "text": [
      "(7025, 22) (1755, 22)\n",
      "(7025, 2, 11) (7025,) (1755, 2, 11) (1755,)\n"
     ]
    }
   ],
   "source": [
    "# split into input and outputs\n",
    "values_train_lstm = train_lstm_reframed.values\n",
    "values_test_lstm = test_lstm_reframed.values\n",
    "\n",
    "train_lstm_X, train_lstm_y = values_train_lstm[:, :-1], values_train_lstm[:, -1]\n",
    "test_lstm_X, test_lstm_y = values_test_lstm[:, :-1], values_test_lstm[:, -1]\n",
    "print(train_lstm_X.shape, test_lstm_X.shape)\n",
    "\n",
    "# reshape input to be 3D [samples, timesteps, features]\n",
    "train_lstm_X = train_lstm_X.reshape((train_lstm_X.shape[0], lags, features))\n",
    "test_lstm_X = test_lstm_X.reshape((test_lstm_X.shape[0], lags, features))\n",
    "\n",
    "print(train_lstm_X.shape, train_lstm_y.shape, test_lstm_X.shape, test_lstm_y.shape)"
   ]
  },
  {
   "cell_type": "markdown",
   "id": "c28d7b08",
   "metadata": {},
   "source": [
    "Define and train LSTM."
   ]
  },
  {
   "cell_type": "code",
   "execution_count": 44,
   "id": "6e273c13",
   "metadata": {},
   "outputs": [
    {
     "name": "stdout",
     "output_type": "stream",
     "text": [
      "Epoch 1/70\n",
      "98/98 - 5s - loss: 0.0364 - val_loss: 0.0115 - 5s/epoch - 54ms/step\n",
      "Epoch 2/70\n",
      "98/98 - 0s - loss: 0.0302 - val_loss: 0.0183 - 452ms/epoch - 5ms/step\n",
      "Epoch 3/70\n",
      "98/98 - 0s - loss: 0.0324 - val_loss: 0.0167 - 434ms/epoch - 4ms/step\n",
      "Epoch 4/70\n",
      "98/98 - 0s - loss: 0.0327 - val_loss: 0.0174 - 449ms/epoch - 5ms/step\n",
      "Epoch 5/70\n",
      "98/98 - 0s - loss: 0.0329 - val_loss: 0.0183 - 450ms/epoch - 5ms/step\n",
      "Epoch 6/70\n",
      "98/98 - 0s - loss: 0.0326 - val_loss: 0.0300 - 421ms/epoch - 4ms/step\n",
      "Epoch 7/70\n",
      "98/98 - 0s - loss: 0.0324 - val_loss: 0.0244 - 384ms/epoch - 4ms/step\n",
      "Epoch 8/70\n",
      "98/98 - 0s - loss: 0.0306 - val_loss: 0.0191 - 418ms/epoch - 4ms/step\n",
      "Epoch 9/70\n",
      "98/98 - 0s - loss: 0.0311 - val_loss: 0.0289 - 430ms/epoch - 4ms/step\n",
      "Epoch 10/70\n",
      "98/98 - 0s - loss: 0.0316 - val_loss: 0.0203 - 452ms/epoch - 5ms/step\n",
      "Epoch 11/70\n",
      "98/98 - 0s - loss: 0.0314 - val_loss: 0.0243 - 432ms/epoch - 4ms/step\n",
      "Epoch 12/70\n",
      "98/98 - 0s - loss: 0.0345 - val_loss: 0.0268 - 451ms/epoch - 5ms/step\n",
      "Epoch 13/70\n",
      "98/98 - 0s - loss: 0.0370 - val_loss: 0.0187 - 451ms/epoch - 5ms/step\n",
      "Epoch 14/70\n",
      "98/98 - 0s - loss: 0.0308 - val_loss: 0.0167 - 464ms/epoch - 5ms/step\n",
      "Epoch 15/70\n",
      "98/98 - 0s - loss: 0.0347 - val_loss: 0.0195 - 450ms/epoch - 5ms/step\n",
      "Epoch 16/70\n",
      "98/98 - 0s - loss: 0.0347 - val_loss: 0.0190 - 483ms/epoch - 5ms/step\n"
     ]
    }
   ],
   "source": [
    "from keras.models import Sequential\n",
    "from keras.layers import Dense\n",
    "from keras.layers import LSTM\n",
    "from keras.layers import Dropout\n",
    "\n",
    "# design LSTM network\n",
    "early_stopping_cb = keras.callbacks.EarlyStopping(patience=15, restore_best_weights=True)\n",
    "model = Sequential()\n",
    "model.add(LSTM(50, input_shape=(train_lstm_X.shape[1], train_lstm_X.shape[2])))\n",
    "model.add(Dropout(0.1))\n",
    "model.add(Dense(100,activation=\"relu\"))\n",
    "model.add(Dropout(0.1))\n",
    "model.add(Dense(1))\n",
    "model.compile(loss='mae', optimizer='adam') \n",
    "\n",
    "# fit LSTM network\n",
    "history = model.fit(train_lstm_X, train_lstm_y, epochs=70, batch_size=72, validation_data=(test_lstm_X, test_lstm_y), callbacks=[early_stopping_cb], verbose=2, shuffle=False)"
   ]
  },
  {
   "cell_type": "markdown",
   "id": "5e400c79",
   "metadata": {},
   "source": [
    "We plot the training history below."
   ]
  },
  {
   "cell_type": "code",
   "execution_count": 45,
   "id": "03e90903",
   "metadata": {},
   "outputs": [
    {
     "data": {
      "image/png": "[encoded data removed]",
      "text/plain": [
       "<Figure size 640x480 with 1 Axes>"
      ]
     },
     "metadata": {},
     "output_type": "display_data"
    }
   ],
   "source": [
    "plt.plot(history.history['loss'], label='train')\n",
    "plt.plot(history.history['val_loss'], label='val')\n",
    "plt.title('loss ')\n",
    "plt.legend()\n",
    "plt.show()"
   ]
  },
  {
   "cell_type": "markdown",
   "id": "f2ae1e2c",
   "metadata": {},
   "source": [
    "We also show how the trend of the predictions compared to the true values in the test data."
   ]
  },
  {
   "cell_type": "code",
   "execution_count": 47,
   "id": "8bd903ae",
   "metadata": {},
   "outputs": [
    {
     "name": "stdout",
     "output_type": "stream",
     "text": [
      "55/55 [==============================] - 0s 808us/step\n"
     ]
    },
    {
     "data": {
      "image/png": "[encoded data removed]",
      "text/plain": [
       "<Figure size 640x480 with 1 Axes>"
      ]
     },
     "metadata": {},
     "output_type": "display_data"
    }
   ],
   "source": [
    "from math import sqrt\n",
    "from numpy import concatenate\n",
    "from sklearn.metrics import mean_squared_error\n",
    "yhat = model.predict(test_lstm_X)\n",
    "\n",
    "# invert scaling for forecast\n",
    "inv_yhat = concatenate((yhat, yhat), axis=1)\n",
    "#inv_yhat = concatenate((yhat, test_X[:, 1:]), axis=1)\n",
    "inv_yhat = y_scaler.inverse_transform(inv_yhat)\n",
    "inv_yhat = inv_yhat[:,0]\n",
    "# invert scaling for actual\n",
    "test_lstm_y = test_lstm_y.reshape((len(test_lstm_y), 1))\n",
    "inv_y = concatenate((test_lstm_y, test_lstm_y), axis=1)\n",
    "inv_y = y_scaler.inverse_transform(inv_y)\n",
    "inv_y = inv_y[:,0]\n",
    "\n",
    "plt.plot(inv_y, color = 'red', label = 'actual')\n",
    "plt.plot(inv_yhat, color = 'blue', label = 'predicted')\n",
    "plt.xlabel('Hour')\n",
    "plt.ylabel('Energy consumption')\n",
    "plt.legend()\n",
    "plt.show()"
   ]
  },
  {
   "cell_type": "code",
   "execution_count": 50,
   "id": "b1a5068c",
   "metadata": {},
   "outputs": [
    {
     "name": "stdout",
     "output_type": "stream",
     "text": [
      "\n",
      "LSTM:\n",
      "RMSE: 0.017\n",
      "MAE: 0.011\n",
      "R-squared: -0.057\n",
      "\n"
     ]
    }
   ],
   "source": [
    "lstm_rmse = mean_squared_error(test_lstm_y, yhat, squared=False)\n",
    "lstm_mae = mean_absolute_error(test_lstm_y, yhat)\n",
    "lstm_r2 = r2_score(test_lstm_y, yhat)\n",
    "\n",
    "print(\"\"\"\n",
    "LSTM:\n",
    "RMSE: {}\n",
    "MAE: {}\n",
    "R-squared: {}\n",
    "\"\"\".format(lstm_rmse.round(3), lstm_mae.round(3), lstm_r2.round(3)))"
   ]
  },
  {
   "cell_type": "markdown",
   "id": "aebb1283",
   "metadata": {},
   "source": [
    "The best model is the random forest regressor, as it has low errors while also having a relatively high R-squared value."
   ]
  }
 ],
 "metadata": {
  "kernelspec": {
   "display_name": "Python 3 (ipykernel)",
   "language": "python",
   "name": "python3"
  },
  "language_info": {
   "codemirror_mode": {
    "name": "ipython",
    "version": 3
   },
   "file_extension": ".py",
   "mimetype": "text/x-python",
   "name": "python",
   "nbconvert_exporter": "python",
   "pygments_lexer": "ipython3",
   "version": "3.9.13"
  }
 },
 "nbformat": 4,
 "nbformat_minor": 5
}
